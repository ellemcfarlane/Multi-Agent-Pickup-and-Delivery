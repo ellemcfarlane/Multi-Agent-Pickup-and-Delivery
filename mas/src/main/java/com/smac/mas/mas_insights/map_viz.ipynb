{
 "cells": [
  {
   "cell_type": "code",
   "execution_count": 4,
   "metadata": {},
   "outputs": [],
   "source": [
    "import json\n",
    "# local\n",
    "from mas_insights import get_project_root, get_level_initial_state, get_level_info, BoxType, AgentId, get_level_goal_state, read_level_file\n",
    "\n",
    "# Load the .lvl file\n",
    "filename = \"MAsimple1.lvl\"\n",
    "\n",
    "_root = get_project_root()\n",
    "\n",
    "# Get the level file name from the command line argument\n",
    "filename = f\"{_root}/prog_proj/levels/{filename}\""
   ]
  },
  {
   "cell_type": "code",
   "execution_count": 5,
   "metadata": {},
   "outputs": [
    {
     "name": "stdout",
     "output_type": "stream",
     "text": [
      "('++++++++++++++++++++++++++++', 28)\n",
      "('+             0        A   +', 28)\n",
      "('+     1                B   +', 28)\n",
      "('+ +++++++++++++++++        +', 28)\n",
      "('+                          +', 28)\n",
      "('++++++++++++++++++++++++++++', 28)\n"
     ]
    }
   ],
   "source": [
    "lvl = read_level_file(filename)\n",
    "init_state = get_level_initial_state(lvl)\n",
    "goal_state = get_level_goal_state(lvl)\n",
    "\n",
    "for line in init_state:\n",
    "    print((line, len(line)))\n",
    "\n",
    "# for i, line in enumerate(goal_state):\n",
    "#     print((line, len(line)))"
   ]
  },
  {
   "cell_type": "code",
   "execution_count": 6,
   "metadata": {},
   "outputs": [
    {
     "name": "stdout",
     "output_type": "stream",
     "text": [
      "28\n"
     ]
    }
   ],
   "source": [
    "print(len(init_state[0]))"
   ]
  },
  {
   "cell_type": "code",
   "execution_count": null,
   "metadata": {},
   "outputs": [],
   "source": []
  },
  {
   "cell_type": "code",
   "execution_count": 7,
   "metadata": {},
   "outputs": [],
   "source": [
    "# Extract the initial state\n",
    "initial_state = get_level_initial_state(filename)\n",
    "\n",
    "# Extract the goal state\n",
    "goal_state = get_level_goal_state(filename)"
   ]
  },
  {
   "cell_type": "code",
   "execution_count": null,
   "metadata": {},
   "outputs": [],
   "source": []
  },
  {
   "cell_type": "code",
   "execution_count": 8,
   "metadata": {},
   "outputs": [],
   "source": [
    "for i, line in enumerate(initial_state):\n",
    "    print((line, len(line)))\n",
    "    print((line[:-1], len(line[:-1])))"
   ]
  },
  {
   "cell_type": "code",
   "execution_count": 9,
   "metadata": {},
   "outputs": [],
   "source": [
    "level_info = get_level_info(filename)\n",
    "agents_dict = json.loads(level_info[\"agents\"])\n",
    "boxes_dict = json.loads(level_info[\"boxes\"])"
   ]
  },
  {
   "cell_type": "code",
   "execution_count": 11,
   "metadata": {},
   "outputs": [
    {
     "data": {
      "text/plain": [
       "['A',\n",
       " 'B',\n",
       " 'C',\n",
       " 'D',\n",
       " 'E',\n",
       " 'F',\n",
       " 'G',\n",
       " 'H',\n",
       " 'I',\n",
       " 'J',\n",
       " 'K',\n",
       " 'L',\n",
       " 'M',\n",
       " 'N',\n",
       " 'O',\n",
       " 'P',\n",
       " 'Q',\n",
       " 'R',\n",
       " 'S',\n",
       " 'T',\n",
       " 'U',\n",
       " 'V',\n",
       " 'W',\n",
       " 'X',\n",
       " 'Y',\n",
       " 'Z']"
      ]
     },
     "execution_count": 11,
     "metadata": {},
     "output_type": "execute_result"
    }
   ],
   "source": [
    "BoxType._member_names_"
   ]
  },
  {
   "cell_type": "code",
   "execution_count": 12,
   "metadata": {},
   "outputs": [
    {
     "name": "stdout",
     "output_type": "stream",
     "text": [
      "works\n"
     ]
    }
   ],
   "source": [
    "if \"A\" in BoxType._member_names_:\n",
    "    print('works')"
   ]
  },
  {
   "cell_type": "code",
   "execution_count": 13,
   "metadata": {},
   "outputs": [
    {
     "data": {
      "text/plain": [
       "'red'"
      ]
     },
     "execution_count": 13,
     "metadata": {},
     "output_type": "execute_result"
    }
   ],
   "source": [
    "def get_agent_color(agents_dict:dict, agent_id:int)->str:\n",
    "    # get color of given agent\n",
    "    for color, agent_list in agents_dict.items():\n",
    "        if agent_id in agent_list:\n",
    "            return color\n",
    "\n",
    "get_agent_color(agents_dict, 0)"
   ]
  },
  {
   "cell_type": "code",
   "execution_count": null,
   "metadata": {},
   "outputs": [],
   "source": []
  }
 ],
 "metadata": {
  "kernelspec": {
   "display_name": "Python 3.11.2 ('myvenv': venv)",
   "language": "python",
   "name": "python3"
  },
  "language_info": {
   "codemirror_mode": {
    "name": "ipython",
    "version": 3
   },
   "file_extension": ".py",
   "mimetype": "text/x-python",
   "name": "python",
   "nbconvert_exporter": "python",
   "pygments_lexer": "ipython3",
   "version": "3.11.2"
  },
  "orig_nbformat": 4,
  "vscode": {
   "interpreter": {
    "hash": "a467c45fadbd1515dc7a8f49f3cc870d1970ab4cb1cebae853475cd2234f3005"
   }
  }
 },
 "nbformat": 4,
 "nbformat_minor": 2
}
